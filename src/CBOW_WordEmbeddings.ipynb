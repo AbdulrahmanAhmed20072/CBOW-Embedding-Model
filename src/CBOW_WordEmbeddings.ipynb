{
  "cells": [
    {
      "cell_type": "code",
      "source": [
        "!pip install -q emoji"
      ],
      "metadata": {
        "id": "TaGQHb1tab_O"
      },
      "execution_count": 1,
      "outputs": []
    },
    {
      "cell_type": "code",
      "execution_count": 2,
      "metadata": {
        "colab": {
          "base_uri": "https://localhost:8080/"
        },
        "id": "4Gzrm3Pab3ts",
        "outputId": "002b29f1-a79a-4193-d64d-9213ca92ce72"
      },
      "outputs": [
        {
          "output_type": "stream",
          "name": "stderr",
          "text": [
            "[nltk_data] Downloading package punkt_tab to /root/nltk_data...\n",
            "[nltk_data]   Package punkt_tab is already up-to-date!\n"
          ]
        },
        {
          "output_type": "execute_result",
          "data": {
            "text/plain": [
              "True"
            ]
          },
          "metadata": {},
          "execution_count": 2
        }
      ],
      "source": [
        "import numpy as np\n",
        "import re\n",
        "import nltk\n",
        "from nltk.tokenize import word_tokenize\n",
        "from collections import Counter\n",
        "import emoji\n",
        "from matplotlib import pyplot\n",
        "\n",
        "from utils_cbow import get_dict, get_batches, compute_pca\n",
        "\n",
        "nltk.download('punkt_tab')"
      ]
    },
    {
      "cell_type": "code",
      "execution_count": 3,
      "metadata": {
        "id": "oPtMYO12MjsH"
      },
      "outputs": [],
      "source": [
        "with open(r'shakespeare.txt') as f:\n",
        "    file_ = f.read()"
      ]
    },
    {
      "cell_type": "code",
      "execution_count": 4,
      "metadata": {
        "id": "MOQ0Su3AM_eu"
      },
      "outputs": [],
      "source": [
        "data = re.sub(r'[!?;,-]+' , '.' , file_)\n",
        "data = word_tokenize(data)\n",
        "\n",
        "data = [word.lower() for word in data if word.isalpha() or word == '.' or emoji.is_emoji(word)]"
      ]
    },
    {
      "cell_type": "code",
      "execution_count": 5,
      "metadata": {
        "colab": {
          "base_uri": "https://localhost:8080/"
        },
        "id": "9_xusRnNNAFR",
        "outputId": "789fff93-b354-4e61-a2b5-24a89f64c534"
      },
      "outputs": [
        {
          "output_type": "execute_result",
          "data": {
            "text/plain": [
              "61000"
            ]
          },
          "metadata": {},
          "execution_count": 5
        }
      ],
      "source": [
        "len(data)"
      ]
    },
    {
      "cell_type": "code",
      "execution_count": 6,
      "metadata": {
        "colab": {
          "base_uri": "https://localhost:8080/"
        },
        "id": "uQXKs7UBODno",
        "outputId": "611e2e44-531d-4a52-bbfe-22dcd2057198"
      },
      "outputs": [
        {
          "output_type": "execute_result",
          "data": {
            "text/plain": [
              "['o', 'for', 'a', 'muse', 'of', 'fire', '.', 'that', 'would', 'ascend']"
            ]
          },
          "metadata": {},
          "execution_count": 6
        }
      ],
      "source": [
        "data[:10]"
      ]
    },
    {
      "cell_type": "code",
      "execution_count": 7,
      "metadata": {
        "colab": {
          "base_uri": "https://localhost:8080/"
        },
        "id": "0HTrOqvaYv9_",
        "outputId": "ddae66cf-832a-4511-be6f-ba8e1ddf0658"
      },
      "outputs": [
        {
          "output_type": "execute_result",
          "data": {
            "text/plain": [
              "[('.', 9630),\n",
              " ('the', 1521),\n",
              " ('and', 1394),\n",
              " ('i', 1259),\n",
              " ('to', 1159),\n",
              " ('of', 1093),\n",
              " ('my', 857),\n",
              " ('that', 781),\n",
              " ('in', 771),\n",
              " ('a', 752)]"
            ]
          },
          "metadata": {},
          "execution_count": 7
        }
      ],
      "source": [
        "# most 10 common words\n",
        "Counter(data).most_common(10)"
      ]
    },
    {
      "cell_type": "code",
      "execution_count": 8,
      "metadata": {
        "colab": {
          "base_uri": "https://localhost:8080/"
        },
        "id": "64KIrpPfXTAS",
        "outputId": "eb3d3bae-aa73-46e5-b004-307a5389d165"
      },
      "outputs": [
        {
          "output_type": "execute_result",
          "data": {
            "text/plain": [
              "5784"
            ]
          },
          "metadata": {},
          "execution_count": 8
        }
      ],
      "source": [
        "# words with corresponding indeces, i works like the vocab\n",
        "word2Ind, Ind2word = get_dict(data)\n",
        "\n",
        "len(word2Ind)"
      ]
    },
    {
      "cell_type": "code",
      "source": [
        "print(\"words to indeces\" , {k:v for k,v in list(word2Ind.items())[:5]})\n",
        "print()\n",
        "print(\"indeces to words\" , {k:v for k,v in list(Ind2word.items())[:5]})"
      ],
      "metadata": {
        "colab": {
          "base_uri": "https://localhost:8080/"
        },
        "id": "6B5W0ck_eBUW",
        "outputId": "00e998e0-d5ea-40fb-9a3d-28042af988c4"
      },
      "execution_count": 9,
      "outputs": [
        {
          "output_type": "stream",
          "name": "stdout",
          "text": [
            "words to indeces {'.': 0, 'a': 1, 'abandon': 2, 'abed': 3, 'abhor': 4}\n",
            "\n",
            "indeces to words {0: '.', 1: 'a', 2: 'abandon', 3: 'abed', 4: 'abhor'}\n"
          ]
        }
      ]
    },
    {
      "cell_type": "code",
      "execution_count": 10,
      "metadata": {
        "colab": {
          "base_uri": "https://localhost:8080/"
        },
        "id": "TS4QFZPZYilT",
        "outputId": "141a1668-3705-410e-90c8-64dc18ac4b42"
      },
      "outputs": [
        {
          "output_type": "stream",
          "name": "stdout",
          "text": [
            "Index of the word 'king' :   2747\n",
            "Word which has index 2743:   kind\n"
          ]
        }
      ],
      "source": [
        "print(\"Index of the word 'king' :  \", word2Ind['king'] )\n",
        "print(\"Word which has index 2743:  \", Ind2word[2743] )"
      ]
    },
    {
      "cell_type": "code",
      "execution_count": 11,
      "metadata": {
        "id": "8d0EHIetq3yV"
      },
      "outputs": [],
      "source": [
        "def get_one_hot_encoder(word , word2Ind):\n",
        "\n",
        "    # a vector fill with zeros except the word index\n",
        "    vec = np.zeros((len(word2Ind), 1))\n",
        "    idx = word2Ind[word]\n",
        "    vec[idx] = 1\n",
        "\n",
        "    return vec"
      ]
    },
    {
      "cell_type": "code",
      "execution_count": 12,
      "metadata": {
        "colab": {
          "base_uri": "https://localhost:8080/"
        },
        "id": "Rb1rWWhDsYib",
        "outputId": "55269da6-da5e-4be4-a6d2-17bae983ffb3"
      },
      "outputs": [
        {
          "output_type": "execute_result",
          "data": {
            "text/plain": [
              "array([[0.],\n",
              "       [1.],\n",
              "       [0.],\n",
              "       ...,\n",
              "       [0.],\n",
              "       [0.],\n",
              "       [0.]])"
            ]
          },
          "metadata": {},
          "execution_count": 12
        }
      ],
      "source": [
        "get_one_hot_encoder('a',word2Ind)"
      ]
    },
    {
      "cell_type": "code",
      "execution_count": 13,
      "metadata": {
        "id": "ETvJ_A22hqMQ"
      },
      "outputs": [],
      "source": [
        "def get_mean_vector(word_context):\n",
        "\n",
        "    context_vecs = []\n",
        "\n",
        "    # word_context contains the center word and contex ex: (\"to\",[\"i\", \"want\", \"play\"])\n",
        "    word = word_context[0]\n",
        "    context = word_context[1]\n",
        "\n",
        "    word_vector = get_one_hot_encoder(word, word2Ind)\n",
        "\n",
        "    for w in context:\n",
        "\n",
        "        context_vecs.append(get_one_hot_encoder(w, word2Ind))\n",
        "\n",
        "    # conpute the mean for context vectors that will be fed into nn as one vector\n",
        "    context_vectors = np.mean(context_vecs, axis = 0)\n",
        "\n",
        "    return word_vector, context_vectors"
      ]
    },
    {
      "cell_type": "code",
      "execution_count": 14,
      "metadata": {
        "id": "wtApPoEwEb0x"
      },
      "outputs": [],
      "source": [
        "def get_windows(data, window_size):\n",
        "\n",
        "    all_windows = []\n",
        "\n",
        "    # skip first window_size words and last window_size words\n",
        "    for i in range( window_size, len(data)-window_size ):\n",
        "\n",
        "        center_word = data[i]\n",
        "        context = data[i-window_size : i] + data[i+1 : i+1+window_size]\n",
        "        all_windows.append((center_word,context))\n",
        "\n",
        "    return all_windows"
      ]
    },
    {
      "cell_type": "code",
      "execution_count": 15,
      "metadata": {
        "colab": {
          "base_uri": "https://localhost:8080/"
        },
        "id": "a2qbBq6utEiB",
        "outputId": "e705f642-7a8c-4d21-e26b-981ab1288cd4",
        "collapsed": true
      },
      "outputs": [
        {
          "output_type": "stream",
          "name": "stdout",
          "text": [
            "context vector: \n",
            "[[0.]\n",
            " [0.]\n",
            " [0.]\n",
            " ...\n",
            " [0.]\n",
            " [0.]\n",
            " [0.]]\n",
            "\n",
            "context vector: \n",
            "[[0.]\n",
            " [0.]\n",
            " [0.]\n",
            " ...\n",
            " [0.]\n",
            " [0.]\n",
            " [0.]]\n",
            "\n",
            "context vector: \n",
            "[[0.]\n",
            " [0.]\n",
            " [0.]\n",
            " ...\n",
            " [0.]\n",
            " [0.]\n",
            " [0.]]\n",
            "\n"
          ]
        }
      ],
      "source": [
        "d = ['i', 'am', 'happy', 'because', 'i','am','learning']\n",
        "\n",
        "windows = get_windows(d,2)\n",
        "\n",
        "for i in windows:\n",
        "\n",
        "    word_v, cont_v = get_mean_vector(i)\n",
        "    print(f'context vector: \\n{cont_v}')\n",
        "    print()"
      ]
    },
    {
      "cell_type": "code",
      "execution_count": 16,
      "metadata": {
        "id": "qctfBmzXa1nZ"
      },
      "outputs": [],
      "source": [
        "def initialize_model(N, V, random_seed = 1):\n",
        "\n",
        "    np.random.seed(random_seed)\n",
        "\n",
        "    # V is the vocab size, N is the hidden layer dimension\n",
        "    W1 = np.random.rand(N, V)\n",
        "    W2 = np.random.rand(V, N)\n",
        "\n",
        "    b1 = np.random.rand(N, 1)\n",
        "    b2 = np.random.rand(V, 1)\n",
        "\n",
        "    return W1, W2, b1, b2"
      ]
    },
    {
      "cell_type": "code",
      "execution_count": 17,
      "metadata": {
        "colab": {
          "base_uri": "https://localhost:8080/"
        },
        "id": "rR6JjuevhaEL",
        "outputId": "2ffcaa63-76de-4e44-b5d4-0c70b9dfa8bc"
      },
      "outputs": [
        {
          "output_type": "stream",
          "name": "stdout",
          "text": [
            "tmp_W1.shape: (4, 10)\n",
            "tmp_W2.shape: (10, 4)\n",
            "tmp_b1.shape: (4, 1)\n",
            "tmp_b2.shape: (10, 1)\n"
          ]
        }
      ],
      "source": [
        "tmp_N = 4\n",
        "tmp_V = 10\n",
        "\n",
        "tmp_W1, tmp_W2, tmp_b1, tmp_b2 = initialize_model(tmp_N, tmp_V)\n",
        "\n",
        "assert tmp_W1.shape == ((tmp_N, tmp_V))\n",
        "assert tmp_W2.shape == ((tmp_V, tmp_N))\n",
        "\n",
        "print(f\"tmp_W1.shape: {tmp_W1.shape}\")\n",
        "print(f\"tmp_W2.shape: {tmp_W2.shape}\")\n",
        "print(f\"tmp_b1.shape: {tmp_b1.shape}\")\n",
        "print(f\"tmp_b2.shape: {tmp_b2.shape}\")"
      ]
    },
    {
      "cell_type": "markdown",
      "source": [
        "![image.png](data:image/png;base64,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)"
      ],
      "metadata": {
        "id": "KX71cEONmvYc"
      }
    },
    {
      "cell_type": "code",
      "execution_count": 18,
      "metadata": {
        "id": "TKdzwjXQhoFF"
      },
      "outputs": [],
      "source": [
        "def softmax(z):\n",
        "\n",
        "    numerator = np.exp(z)\n",
        "\n",
        "    # the output is a column vector, so sum over axis 0 \"columns\"\n",
        "    denumerator = np.sum(numerator, axis = 0)\n",
        "\n",
        "    y_hat = numerator / denumerator\n",
        "\n",
        "    return y_hat"
      ]
    },
    {
      "cell_type": "code",
      "execution_count": 19,
      "metadata": {
        "colab": {
          "base_uri": "https://localhost:8080/",
          "height": 52
        },
        "id": "gRksg9aXi3Od",
        "outputId": "45849d6a-bd1f-41f8-a999-9ea9e68fe64b"
      },
      "outputs": [
        {
          "output_type": "display_data",
          "data": {
            "text/plain": [
              "array([[0.5       , 0.73105858, 0.88079708],\n",
              "       [0.5       , 0.26894142, 0.11920292]])"
            ]
          },
          "metadata": {}
        }
      ],
      "source": [
        "tmp = np.array([[1,2,3],\n",
        "                [1,1,1]])\n",
        "\n",
        "tmp_softmax = softmax(tmp)\n",
        "display(tmp_softmax)"
      ]
    },
    {
      "cell_type": "code",
      "execution_count": 20,
      "metadata": {
        "id": "3Y_8L91Tkx5f"
      },
      "outputs": [],
      "source": [
        "def relu(z):\n",
        "\n",
        "    h = z.copy()\n",
        "    h[h<0] = 0\n",
        "\n",
        "    return h"
      ]
    },
    {
      "cell_type": "code",
      "execution_count": 21,
      "metadata": {
        "id": "ejpRu5WcjP_j"
      },
      "outputs": [],
      "source": [
        "# Forward propagation\n",
        "\n",
        "def forward_prop(x, W1, W2, b1, b2):\n",
        "\n",
        "    # W1 (N, V), x (V, 1), b1 (N, 1)\n",
        "    z1 = np.dot(W1 , x) + b1\n",
        "    h1 = relu(z1)\n",
        "\n",
        "    # W2 (V, N), h1 (N, 1), b1 (V, 1)\n",
        "    z2 = np.dot(W2 , h1) + b2\n",
        "\n",
        "    return z2, h1"
      ]
    },
    {
      "cell_type": "code",
      "execution_count": 22,
      "metadata": {
        "colab": {
          "base_uri": "https://localhost:8080/"
        },
        "id": "ZIdnmQvLleqA",
        "outputId": "95d334ed-0e38-4d79-9993-bc106c5cac32"
      },
      "outputs": [
        {
          "output_type": "stream",
          "name": "stdout",
          "text": [
            "x has shape (3, 1)\n",
            "\n",
            "hidden dimension is 2 and vocabulary size V is 3\n",
            "\n",
            "z has shape (3, 1)\n",
            "z has values:\n",
            "[[0.55379268]\n",
            " [1.58960774]\n",
            " [1.50722933]]\n",
            "\n",
            "h has shape (2, 1)\n",
            "h has values:\n",
            "[[0.92477674]\n",
            " [1.02487333]]\n"
          ]
        }
      ],
      "source": [
        "# Create some inputs\n",
        "tmp_N = 2\n",
        "tmp_V = 3\n",
        "tmp_x = np.array([[0,1,0]]).T # column vector\n",
        "\n",
        "tmp_W1, tmp_W2, tmp_b1, tmp_b2 = initialize_model(N = tmp_N, V = tmp_V)\n",
        "\n",
        "print(f\"x has shape {tmp_x.shape}\\n\")\n",
        "print(f\"hidden dimension is {tmp_N} and vocabulary size V is {tmp_V}\\n\")\n",
        "\n",
        "# call function\n",
        "z_tmp, h_tmp = forward_prop(tmp_x, tmp_W1, tmp_W2, tmp_b1, tmp_b2)\n",
        "\n",
        "print(f\"z has shape {z_tmp.shape}\")\n",
        "print(\"z has values:\")\n",
        "print(z_tmp)\n",
        "\n",
        "print()\n",
        "\n",
        "print(f\"h has shape {h_tmp.shape}\")\n",
        "print(\"h has values:\")\n",
        "print(h_tmp)"
      ]
    },
    {
      "cell_type": "markdown",
      "source": [
        "**cross entropy loss function**\n",
        "\n",
        "\n",
        "\n",
        "![image.png](data:image/png;base64,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)"
      ],
      "metadata": {
        "id": "3r4XI3CVqmA8"
      }
    },
    {
      "cell_type": "code",
      "execution_count": 23,
      "metadata": {
        "id": "fazTPDmgnfK_"
      },
      "outputs": [],
      "source": [
        "def compute_cost(y , y_hat, batch_size):\n",
        "\n",
        "    # cross entropy loss\n",
        "    logprobs = np.multiply( np.log(y_hat), y )\n",
        "    cost = ( -1 / batch_size ) * np.sum(logprobs)\n",
        "\n",
        "    return np.squeeze(cost)"
      ]
    },
    {
      "cell_type": "code",
      "execution_count": 25,
      "metadata": {
        "colab": {
          "base_uri": "https://localhost:8080/"
        },
        "id": "_yRIesMVAWfm",
        "outputId": "69962db9-c69c-4f8b-e5a2-87c2f349293e"
      },
      "outputs": [
        {
          "output_type": "stream",
          "name": "stdout",
          "text": [
            "tmp_x.shape (5784, 4)\n",
            "tmp_y.shape (5784, 4)\n",
            "tmp_W1.shape (50, 5784)\n",
            "tmp_W2.shape (5784, 50)\n",
            "tmp_b1.shape (50, 1)\n",
            "tmp_b2.shape (5784, 1)\n",
            "tmp_z.shape: (5784, 4)\n",
            "tmp_h.shape: (50, 4)\n",
            "tmp_yhat.shape: (5784, 4)\n",
            "call compute_cost\n",
            "tmp_cost 11.8466\n"
          ]
        }
      ],
      "source": [
        "tmp_C = 2\n",
        "tmp_N = 50\n",
        "tmp_batch_size = 4\n",
        "tmp_word2Ind, tmp_Ind2word = get_dict(data)\n",
        "tmp_V = len(word2Ind)\n",
        "\n",
        "tmp_x, tmp_y = next(get_batches(data, tmp_word2Ind, tmp_V,tmp_C, tmp_batch_size))\n",
        "\n",
        "print(f\"tmp_x.shape {tmp_x.shape}\")\n",
        "print(f\"tmp_y.shape {tmp_y.shape}\")\n",
        "\n",
        "tmp_W1, tmp_W2, tmp_b1, tmp_b2 = initialize_model(tmp_N,tmp_V)\n",
        "\n",
        "print(f\"tmp_W1.shape {tmp_W1.shape}\")\n",
        "print(f\"tmp_W2.shape {tmp_W2.shape}\")\n",
        "print(f\"tmp_b1.shape {tmp_b1.shape}\")\n",
        "print(f\"tmp_b2.shape {tmp_b2.shape}\")\n",
        "\n",
        "tmp_z, tmp_h = forward_prop(tmp_x, tmp_W1, tmp_W2, tmp_b1, tmp_b2)\n",
        "print(f\"tmp_z.shape: {tmp_z.shape}\")\n",
        "print(f\"tmp_h.shape: {tmp_h.shape}\")\n",
        "\n",
        "tmp_yhat = softmax(tmp_z)\n",
        "print(f\"tmp_yhat.shape: {tmp_yhat.shape}\")\n",
        "\n",
        "tmp_cost = compute_cost(tmp_y, tmp_yhat, tmp_batch_size)\n",
        "print(\"call compute_cost\")\n",
        "print(f\"tmp_cost {tmp_cost:.4f}\")"
      ]
    },
    {
      "cell_type": "code",
      "execution_count": 26,
      "metadata": {
        "id": "x60KkMaDBfB-"
      },
      "outputs": [],
      "source": [
        "def back_prop(x, yhat, y, h, W1, W2, b1, b2, batch_size):\n",
        "\n",
        "    # Compute delta_h as W2^T (Yhat - Y)\n",
        "    delta_h = np.dot(W2.T, (yhat - y))\n",
        "    # Apply ReLU to delta_h\n",
        "    delta_h = np.maximum(0, delta_h)\n",
        "\n",
        "    # Compute the gradient of W1\n",
        "    grad_W1 = (1 / batch_size) * np.dot(delta_h, x.T)\n",
        "    # Compute the gradient of W2\n",
        "    grad_W2 = (1 / batch_size) * np.dot(yhat - y, h.T)\n",
        "    # Compute the gradient of b1\n",
        "    grad_b1 = np.sum((1 / batch_size) * np.dot(delta_h, x.T), axis=1, keepdims=True)\n",
        "    # Compute the gradient of b2\n",
        "    grad_b2 = np.sum((1 / batch_size) * np.dot(yhat - y, h.T), axis=1, keepdims=True)\n",
        "\n",
        "    return grad_W1, grad_W2, grad_b1, grad_b2"
      ]
    },
    {
      "cell_type": "code",
      "source": [
        "tmp_C = 2\n",
        "tmp_N = 50\n",
        "tmp_batch_size = 4\n",
        "tmp_word2Ind, tmp_Ind2word = get_dict(data)\n",
        "tmp_V = len(word2Ind)\n",
        "\n",
        "# get a batch of data\n",
        "tmp_x, tmp_y = next(get_batches(data, tmp_word2Ind, tmp_V,tmp_C, tmp_batch_size))\n",
        "\n",
        "print(\"get a batch of data\")\n",
        "print(f\"tmp_x.shape {tmp_x.shape}\")\n",
        "print(f\"tmp_y.shape {tmp_y.shape}\")\n",
        "\n",
        "print()\n",
        "print(\"Initialize weights and biases\")\n",
        "tmp_W1, tmp_W2, tmp_b1, tmp_b2 = initialize_model(tmp_N,tmp_V)\n",
        "\n",
        "print(f\"tmp_W1.shape {tmp_W1.shape}\")\n",
        "print(f\"tmp_W2.shape {tmp_W2.shape}\")\n",
        "print(f\"tmp_b1.shape {tmp_b1.shape}\")\n",
        "print(f\"tmp_b2.shape {tmp_b2.shape}\")\n",
        "\n",
        "print()\n",
        "print(\"Forwad prop to get z and h\")\n",
        "tmp_z, tmp_h = forward_prop(tmp_x, tmp_W1, tmp_W2, tmp_b1, tmp_b2)\n",
        "print(f\"tmp_z.shape: {tmp_z.shape}\")\n",
        "print(f\"tmp_h.shape: {tmp_h.shape}\")\n",
        "\n",
        "print()\n",
        "print(\"Get yhat by calling softmax\")\n",
        "tmp_yhat = softmax(tmp_z)\n",
        "print(f\"tmp_yhat.shape: {tmp_yhat.shape}\")\n",
        "\n",
        "tmp_m = (2*tmp_C)\n",
        "tmp_grad_W1, tmp_grad_W2, tmp_grad_b1, tmp_grad_b2 = back_prop(tmp_x, tmp_yhat, tmp_y, tmp_h, tmp_W1, tmp_W2, tmp_b1, tmp_b2, tmp_batch_size)\n",
        "\n",
        "print()\n",
        "print(\"call back_prop\")\n",
        "print(f\"tmp_grad_W1.shape {tmp_grad_W1.shape}\")\n",
        "print(f\"tmp_grad_W2.shape {tmp_grad_W2.shape}\")\n",
        "print(f\"tmp_grad_b1.shape {tmp_grad_b1.shape}\")\n",
        "print(f\"tmp_grad_b2.shape {tmp_grad_b2.shape}\")"
      ],
      "metadata": {
        "colab": {
          "base_uri": "https://localhost:8080/"
        },
        "id": "EQRAcBBuCHwT",
        "outputId": "ae6d90a9-9611-48af-87c1-14c02117cd28"
      },
      "execution_count": 27,
      "outputs": [
        {
          "output_type": "stream",
          "name": "stdout",
          "text": [
            "get a batch of data\n",
            "tmp_x.shape (5784, 4)\n",
            "tmp_y.shape (5784, 4)\n",
            "\n",
            "Initialize weights and biases\n",
            "tmp_W1.shape (50, 5784)\n",
            "tmp_W2.shape (5784, 50)\n",
            "tmp_b1.shape (50, 1)\n",
            "tmp_b2.shape (5784, 1)\n",
            "\n",
            "Forwad prop to get z and h\n",
            "tmp_z.shape: (5784, 4)\n",
            "tmp_h.shape: (50, 4)\n",
            "\n",
            "Get yhat by calling softmax\n",
            "tmp_yhat.shape: (5784, 4)\n",
            "\n",
            "call back_prop\n",
            "tmp_grad_W1.shape (50, 5784)\n",
            "tmp_grad_W2.shape (5784, 50)\n",
            "tmp_grad_b1.shape (50, 1)\n",
            "tmp_grad_b2.shape (5784, 1)\n"
          ]
        }
      ]
    },
    {
      "cell_type": "code",
      "source": [
        "def gradient_descent(data, word2Ind, N, V, num_iters, alpha=0.03):\n",
        "\n",
        "    # trainin process\n",
        "\n",
        "    W1, W2, b1, b2 = initialize_model(N,V, random_seed=282)\n",
        "    batch_size = 128\n",
        "    iters = 0\n",
        "    C = 2\n",
        "\n",
        "    for x, y in get_batches(data, word2Ind, V, C, batch_size):\n",
        "\n",
        "        # Get z and h\n",
        "        z, h = forward_prop(x, W1, W2, b1, b2)\n",
        "        # Get yhat\n",
        "        yhat = softmax(z)\n",
        "        # Get cost\n",
        "        cost = compute_cost(y, yhat, batch_size)\n",
        "\n",
        "        # every 10 samples print the loss\n",
        "        if ( (iters + 1) % 10 == 0 ):\n",
        "            print(f\"iters: {iters + 1} cost: {cost:.6f}\")\n",
        "\n",
        "        # Get gradients\n",
        "        grad_W1, grad_W2, grad_b1, grad_b2 = back_prop(x, yhat, y, h, W1, W2, b1, b2, batch_size)\n",
        "\n",
        "        # Update weights and biases\n",
        "        W1 -= alpha * grad_W1\n",
        "        W2 -= alpha * grad_W2\n",
        "        b1 -= alpha * grad_b1\n",
        "        b2 -= alpha * grad_b2\n",
        "\n",
        "        # for each sample increase iters by 1, and check if it reach the num_iters\n",
        "        iters += 1\n",
        "        if iters == num_iters:\n",
        "            break\n",
        "\n",
        "        # every 100 sample decrease the lr by 0.66\n",
        "        if iters % 100 == 0:\n",
        "            alpha *= 0.66\n",
        "\n",
        "    return W1, W2, b1, b2"
      ],
      "metadata": {
        "id": "hhdvMwThDJ4q"
      },
      "execution_count": 28,
      "outputs": []
    },
    {
      "cell_type": "code",
      "source": [
        "C = 2\n",
        "N = 50\n",
        "\n",
        "word2Ind, Ind2word = get_dict(data)\n",
        "V = len(word2Ind)\n",
        "num_iters = 150\n",
        "\n",
        "print(\"Call gradient_descent\")\n",
        "W1, W2, b1, b2 = gradient_descent(data, word2Ind, N, V, num_iters)"
      ],
      "metadata": {
        "colab": {
          "base_uri": "https://localhost:8080/"
        },
        "id": "YSX_1mHNHgSC",
        "outputId": "99130c42-935f-4e8a-8ad7-6f0a21745356"
      },
      "execution_count": 29,
      "outputs": [
        {
          "output_type": "stream",
          "name": "stdout",
          "text": [
            "Call gradient_descent\n",
            "iters: 10 cost: 0.054550\n",
            "iters: 20 cost: 0.021306\n",
            "iters: 30 cost: 0.013284\n",
            "iters: 40 cost: 0.009659\n",
            "iters: 50 cost: 0.007592\n",
            "iters: 60 cost: 0.006255\n",
            "iters: 70 cost: 0.005319\n",
            "iters: 80 cost: 0.004627\n",
            "iters: 90 cost: 0.004095\n",
            "iters: 100 cost: 0.003673\n",
            "iters: 110 cost: 0.003428\n",
            "iters: 120 cost: 0.003224\n",
            "iters: 130 cost: 0.003042\n",
            "iters: 140 cost: 0.002880\n",
            "iters: 150 cost: 0.002735\n"
          ]
        }
      ]
    },
    {
      "cell_type": "code",
      "source": [
        "words = ['king', 'queen','lord','man', 'woman','dog','wolf',\n",
        "         'rich','happy','sad']\n",
        "\n",
        "embs = (W1.T + W2) / 2.0\n",
        "\n",
        "# given a list of words and the embeddings, it returns a matrix with all the embeddings\n",
        "idx = [word2Ind[word] for word in words]\n",
        "X = embs[idx, :]\n",
        "\n",
        "print(X.shape, idx)"
      ],
      "metadata": {
        "colab": {
          "base_uri": "https://localhost:8080/"
        },
        "id": "5c215MZnHhGs",
        "outputId": "0e1146a5-da49-4f2a-f97b-f229b4bbbfd2"
      },
      "execution_count": 36,
      "outputs": [
        {
          "output_type": "stream",
          "name": "stdout",
          "text": [
            "(10, 50) [2747, 3953, 2963, 3025, 5681, 1455, 5680, 4193, 2318, 4281]\n"
          ]
        }
      ]
    },
    {
      "cell_type": "code",
      "source": [
        "result= compute_pca(X, 2)\n",
        "pyplot.scatter(result[:, 0], result[:, 1])\n",
        "for i, word in enumerate(words):\n",
        "    pyplot.annotate(word, xy=(result[i, 0], result[i, 1]))\n",
        "pyplot.show()"
      ],
      "metadata": {
        "colab": {
          "base_uri": "https://localhost:8080/",
          "height": 430
        },
        "id": "5iEsfAGUIc_T",
        "outputId": "7979384e-4fa9-4614-c6f5-854acac14f4b"
      },
      "execution_count": 37,
      "outputs": [
        {
          "output_type": "display_data",
          "data": {
            "text/plain": [
              "<Figure size 640x480 with 1 Axes>"
            ],
            "image/png": "[encoded data removed]"
          },
          "metadata": {}
        }
      ]
    }
  ],
  "metadata": {
    "colab": {
      "provenance": []
    },
    "kernelspec": {
      "display_name": "Python 3",
      "name": "python3"
    },
    "language_info": {
      "name": "python"
    }
  },
  "nbformat": 4,
  "nbformat_minor": 0
}